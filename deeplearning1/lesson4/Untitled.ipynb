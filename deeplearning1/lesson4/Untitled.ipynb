{
 "cells": [
  {
   "cell_type": "code",
   "execution_count": 1,
   "metadata": {
    "collapsed": false
   },
   "outputs": [
    {
     "name": "stderr",
     "output_type": "stream",
     "text": [
      "Using Theano backend.\n",
      "Using gpu device 0: Tesla K80 (CNMeM is disabled, cuDNN 5103)\n",
      "/home/ubuntu/anaconda2/lib/python2.7/site-packages/theano/sandbox/cuda/__init__.py:600: UserWarning: Your cuDNN version is more recent than the one Theano officially supports. If you see any problems, try updating Theano or downgrading cuDNN to version 5.\n",
      "  warnings.warn(warn)\n"
     ]
    },
    {
     "data": {
      "text/plain": [
       "<module 'kutils' from 'kutils.pyc'>"
      ]
     },
     "execution_count": 1,
     "metadata": {},
     "output_type": "execute_result"
    }
   ],
   "source": [
    "import kimports; reload(kimports); from kimports import *\n",
    "import kutils; reload(kutils)"
   ]
  },
  {
   "cell_type": "code",
   "execution_count": 2,
   "metadata": {
    "collapsed": true
   },
   "outputs": [],
   "source": [
    "path = '../data/movielense/small'"
   ]
  },
  {
   "cell_type": "code",
   "execution_count": 53,
   "metadata": {
    "collapsed": false
   },
   "outputs": [],
   "source": [
    "ratings, movies, tags = [pd.read_csv(path + '/%s.csv' % f) for f in ['ratings', 'movies', 'tags']]"
   ]
  },
  {
   "cell_type": "code",
   "execution_count": 54,
   "metadata": {
    "collapsed": false
   },
   "outputs": [],
   "source": [
    "movies = movies.set_index('movieId')"
   ]
  },
  {
   "cell_type": "code",
   "execution_count": 63,
   "metadata": {
    "collapsed": false
   },
   "outputs": [
    {
     "data": {
      "text/plain": [
       "'Twelve Monkeys (a.k.a. 12 Monkeys) (1995)'"
      ]
     },
     "execution_count": 63,
     "metadata": {},
     "output_type": "execute_result"
    }
   ],
   "source": [
    "movies.iloc[31]['title']"
   ]
  },
  {
   "cell_type": "code",
   "execution_count": 71,
   "metadata": {
    "collapsed": false
   },
   "outputs": [
    {
     "data": {
      "text/plain": [
       "title     Women of '69, Unboxed\n",
       "genres              Documentary\n",
       "Name: 164979, dtype: object"
      ]
     },
     "execution_count": 71,
     "metadata": {},
     "output_type": "execute_result"
    }
   ],
   "source": [
    "movies.loc[164979]"
   ]
  },
  {
   "cell_type": "code",
   "execution_count": 72,
   "metadata": {
    "collapsed": false
   },
   "outputs": [],
   "source": [
    "# Map from movie and user indexes to contiguous indexes,\n",
    "# to reduce the size of the embedding layers\n",
    "userid2idx = {o:i for i,o in enumerate(ratings['userId'].unique())}\n",
    "movieid2idx = {o:i for i,o in enumerate(ratings['movieId'].unique())}\n",
    "ratings['seqMovieId'] = ratings['movieId'].apply(lambda x: movieid2idx[x])\n",
    "ratings['title'] = ratings['movieId'].apply(lambda x: movies.loc[x]['title'])\n",
    "ratings['seqUserId'] = ratings['userId'].apply(lambda x: userid2idx[x])"
   ]
  },
  {
   "cell_type": "code",
   "execution_count": 73,
   "metadata": {
    "collapsed": true
   },
   "outputs": [],
   "source": [
    "num_factors = 50\n",
    "mask = np.random.rand(len(ratings)) < 0.8\n",
    "train_ratings = ratings[mask]\n",
    "valid_ratings = ratings[~mask]"
   ]
  },
  {
   "cell_type": "code",
   "execution_count": 74,
   "metadata": {
    "collapsed": false
   },
   "outputs": [],
   "source": [
    "def fit(model, nb_epoch, lr):\n",
    "    model.optimizer.lr = lr\n",
    "    model.fit([train_ratings['seqUserId'], train_ratings['seqMovieId']], train_ratings['rating'],\n",
    "          validation_data=([valid_ratings['seqUserId'], valid_ratings['seqMovieId']], valid_ratings['rating']),\n",
    "          batch_size=64, nb_epoch=nb_epoch)"
   ]
  },
  {
   "cell_type": "markdown",
   "metadata": {},
   "source": [
    "# Basic, which over fits"
   ]
  },
  {
   "cell_type": "code",
   "execution_count": 7,
   "metadata": {
    "collapsed": false
   },
   "outputs": [],
   "source": [
    "movie_input = keras.layers.Input(shape=(1,), dtype='int64', name='movie_input')\n",
    "user_input = keras.layers.Input(shape=(1,), dtype='int64', name='user_input')\n",
    "\n",
    "user_embedding = keras.layers.Embedding(ratings['seqUserId'].nunique(), num_factors, input_length=1)(user_input)\n",
    "movie_embedding = keras.layers.Embedding(ratings['seqMovieId'].nunique(), num_factors, input_length=1)(movie_input)\n",
    "\n",
    "layers = keras.layers.merge([user_embedding, movie_embedding], mode='dot')\n",
    "layers = keras.layers.Flatten()(layers)\n",
    "model = keras.models.Model([user_input, movie_input], layers)\n",
    "model.compile(optimizer=keras.optimizers.Adam(0.001), loss='mse')"
   ]
  },
  {
   "cell_type": "code",
   "execution_count": 8,
   "metadata": {
    "collapsed": false
   },
   "outputs": [
    {
     "name": "stdout",
     "output_type": "stream",
     "text": [
      "Train on 80080 samples, validate on 19924 samples\n",
      "Epoch 1/1\n",
      "80080/80080 [==============================] - 4s - loss: 10.7301 - val_loss: 4.2921\n"
     ]
    }
   ],
   "source": [
    "fit(model, 1, 0.001)"
   ]
  },
  {
   "cell_type": "code",
   "execution_count": 9,
   "metadata": {
    "collapsed": false
   },
   "outputs": [
    {
     "name": "stdout",
     "output_type": "stream",
     "text": [
      "Train on 80080 samples, validate on 19924 samples\n",
      "Epoch 1/10\n",
      "80080/80080 [==============================] - 4s - loss: 2.4304 - val_loss: 1.8774\n",
      "Epoch 2/10\n",
      "80080/80080 [==============================] - 4s - loss: 1.2726 - val_loss: 1.4796\n",
      "Epoch 3/10\n",
      "80080/80080 [==============================] - 4s - loss: 0.9480 - val_loss: 1.3465\n",
      "Epoch 4/10\n",
      "80080/80080 [==============================] - 4s - loss: 0.7905 - val_loss: 1.3002\n",
      "Epoch 5/10\n",
      "80080/80080 [==============================] - 4s - loss: 0.6895 - val_loss: 1.2787\n",
      "Epoch 6/10\n",
      "80080/80080 [==============================] - 4s - loss: 0.6127 - val_loss: 1.2720\n",
      "Epoch 7/10\n",
      "80080/80080 [==============================] - 4s - loss: 0.5483 - val_loss: 1.2795\n",
      "Epoch 8/10\n",
      "80080/80080 [==============================] - 4s - loss: 0.4935 - val_loss: 1.2817\n",
      "Epoch 9/10\n",
      "80080/80080 [==============================] - 4s - loss: 0.4433 - val_loss: 1.2904\n",
      "Epoch 10/10\n",
      "80080/80080 [==============================] - 4s - loss: 0.3959 - val_loss: 1.2993\n"
     ]
    }
   ],
   "source": [
    "fit(model, 10, 0.01)"
   ]
  },
  {
   "cell_type": "markdown",
   "metadata": {},
   "source": [
    "# Batch norm"
   ]
  },
  {
   "cell_type": "code",
   "execution_count": 10,
   "metadata": {
    "collapsed": true
   },
   "outputs": [],
   "source": [
    "movie_input = keras.layers.Input(shape=(1,), dtype='int64', name='movie_input')\n",
    "user_input = keras.layers.Input(shape=(1,), dtype='int64', name='user_input')\n",
    "\n",
    "user_embedding = keras.layers.Embedding(ratings['seqUserId'].nunique(), num_factors, input_length=1)(user_input)\n",
    "movie_embedding = keras.layers.Embedding(ratings['seqMovieId'].nunique(), num_factors, input_length=1)(movie_input)\n",
    "\n",
    "layers = keras.layers.merge([user_embedding, movie_embedding], mode='dot')\n",
    "layers = keras.layers.normalization.BatchNormalization()(layers)\n",
    "layers = keras.layers.Flatten()(layers)\n",
    "layers = keras.layers.core.Dropout(0.05)(layers)\n",
    "model = keras.models.Model([user_input, movie_input], layers)\n",
    "model.compile(optimizer=keras.optimizers.Adam(0.001), loss='mse')"
   ]
  },
  {
   "cell_type": "code",
   "execution_count": 11,
   "metadata": {
    "collapsed": false
   },
   "outputs": [
    {
     "name": "stdout",
     "output_type": "stream",
     "text": [
      "Train on 80080 samples, validate on 19924 samples\n",
      "Epoch 1/1\n",
      "80080/80080 [==============================] - 6s - loss: 10.1969 - val_loss: 6.8933\n"
     ]
    }
   ],
   "source": [
    "fit(model, 1, 0.001)"
   ]
  },
  {
   "cell_type": "code",
   "execution_count": 12,
   "metadata": {
    "collapsed": false
   },
   "outputs": [
    {
     "name": "stdout",
     "output_type": "stream",
     "text": [
      "Train on 80080 samples, validate on 19924 samples\n",
      "Epoch 1/10\n",
      "80080/80080 [==============================] - 6s - loss: 4.5548 - val_loss: 3.1339\n",
      "Epoch 2/10\n",
      "80080/80080 [==============================] - 6s - loss: 1.9816 - val_loss: 1.5548\n",
      "Epoch 3/10\n",
      "80080/80080 [==============================] - 6s - loss: 1.0963 - val_loss: 1.1004\n",
      "Epoch 4/10\n",
      "80080/80080 [==============================] - 6s - loss: 0.9163 - val_loss: 1.0669\n",
      "Epoch 5/10\n",
      "80080/80080 [==============================] - 6s - loss: 0.8697 - val_loss: 1.0634\n",
      "Epoch 6/10\n",
      "80080/80080 [==============================] - 6s - loss: 0.8487 - val_loss: 1.0740\n",
      "Epoch 7/10\n",
      "80080/80080 [==============================] - 6s - loss: 0.8249 - val_loss: 1.0814\n",
      "Epoch 8/10\n",
      "80080/80080 [==============================] - 6s - loss: 0.8204 - val_loss: 1.0898\n",
      "Epoch 9/10\n",
      "80080/80080 [==============================] - 6s - loss: 0.7946 - val_loss: 1.0951\n",
      "Epoch 10/10\n",
      "80080/80080 [==============================] - 6s - loss: 0.7991 - val_loss: 1.1044\n"
     ]
    }
   ],
   "source": [
    "fit(model, 10, 0.01)"
   ]
  },
  {
   "cell_type": "markdown",
   "metadata": {},
   "source": [
    "# Regularization in embedding layers"
   ]
  },
  {
   "cell_type": "code",
   "execution_count": 13,
   "metadata": {
    "collapsed": false
   },
   "outputs": [],
   "source": [
    "movie_input = keras.layers.Input(shape=(1,), dtype='int64', name='movie_input')\n",
    "user_input = keras.layers.Input(shape=(1,), dtype='int64', name='user_input')\n",
    "\n",
    "user_embedding = keras.layers.Embedding(ratings['seqUserId'].nunique(), num_factors, input_length=1, W_regularizer=keras.regularizers.l2(0.01))(user_input)\n",
    "movie_embedding = keras.layers.Embedding(ratings['seqMovieId'].nunique(), num_factors, input_length=1, W_regularizer=keras.regularizers.l2(0.01))(movie_input)\n",
    "\n",
    "layers = keras.layers.merge([user_embedding, movie_embedding], mode='dot')\n",
    "layers = keras.layers.normalization.BatchNormalization()(layers)\n",
    "layers = keras.layers.Flatten()(layers)\n",
    "model = keras.models.Model([user_input, movie_input], layers)\n",
    "model.compile(optimizer=keras.optimizers.Adam(0.001), loss='mse')"
   ]
  },
  {
   "cell_type": "code",
   "execution_count": 14,
   "metadata": {
    "collapsed": false
   },
   "outputs": [
    {
     "name": "stdout",
     "output_type": "stream",
     "text": [
      "Train on 80080 samples, validate on 19924 samples\n",
      "Epoch 1/1\n",
      "80080/80080 [==============================] - 8s - loss: 10.4005 - val_loss: 6.6510\n"
     ]
    }
   ],
   "source": [
    "fit(model, 1, 0.001)"
   ]
  },
  {
   "cell_type": "code",
   "execution_count": 15,
   "metadata": {
    "collapsed": false
   },
   "outputs": [
    {
     "name": "stdout",
     "output_type": "stream",
     "text": [
      "Train on 80080 samples, validate on 19924 samples\n",
      "Epoch 1/10\n",
      "80080/80080 [==============================] - 8s - loss: 5.0082 - val_loss: 2.9806\n",
      "Epoch 2/10\n",
      "80080/80080 [==============================] - 8s - loss: 2.4809 - val_loss: 1.4097\n",
      "Epoch 3/10\n",
      "80080/80080 [==============================] - 8s - loss: 1.5419 - val_loss: 0.9733\n",
      "Epoch 4/10\n",
      "80080/80080 [==============================] - 8s - loss: 1.3447 - val_loss: 0.9366\n",
      "Epoch 5/10\n",
      "80080/80080 [==============================] - 8s - loss: 1.3267 - val_loss: 0.9349\n",
      "Epoch 6/10\n",
      "80080/80080 [==============================] - 8s - loss: 1.3091 - val_loss: 0.9427\n",
      "Epoch 7/10\n",
      "80080/80080 [==============================] - 8s - loss: 1.3024 - val_loss: 0.9369\n",
      "Epoch 8/10\n",
      "80080/80080 [==============================] - 8s - loss: 1.2961 - val_loss: 0.9392\n",
      "Epoch 9/10\n",
      "80080/80080 [==============================] - 8s - loss: 1.2903 - val_loss: 0.9275\n",
      "Epoch 10/10\n",
      "80080/80080 [==============================] - 8s - loss: 1.2829 - val_loss: 0.9259\n"
     ]
    }
   ],
   "source": [
    "fit(model, 10, 0.01)"
   ]
  },
  {
   "cell_type": "markdown",
   "metadata": {},
   "source": [
    "# Bias units"
   ]
  },
  {
   "cell_type": "code",
   "execution_count": 75,
   "metadata": {
    "collapsed": false
   },
   "outputs": [],
   "source": [
    "movie_input = keras.layers.Input(shape=(1,), dtype='int64', name='movie_input')\n",
    "user_input = keras.layers.Input(shape=(1,), dtype='int64', name='user_input')\n",
    "\n",
    "user_embedding = keras.layers.Embedding(ratings['seqUserId'].nunique(), num_factors, input_length=1, W_regularizer=keras.regularizers.l2(0.001))(user_input)\n",
    "movie_embedding = keras.layers.Embedding(ratings['seqMovieId'].nunique(), num_factors, input_length=1, W_regularizer=keras.regularizers.l2(0.001))(movie_input)\n",
    "b_user_embedding = keras.layers.Embedding(ratings['seqUserId'].nunique(), 1, input_length=1)(user_input)\n",
    "b_movie_embedding = keras.layers.Embedding(ratings['seqMovieId'].nunique(), 1, input_length=1)(movie_input)\n",
    "b_user_embedding = keras.layers.Flatten()(b_user_embedding)\n",
    "b_movie_embedding = keras.layers.Flatten()(b_movie_embedding)\n",
    "layers = keras.layers.merge([user_embedding, movie_embedding], mode='dot')\n",
    "layers = keras.layers.Flatten()(layers)\n",
    "layers = keras.layers.merge([layers, b_user_embedding], mode='sum')\n",
    "layers = keras.layers.merge([layers, b_movie_embedding], mode='sum')\n",
    "\n",
    "\n",
    "#layers = keras.layers.normalization.BatchNormalization()(layers)\n",
    "\n",
    "model = keras.models.Model([user_input, movie_input], layers)\n",
    "model.compile(optimizer=keras.optimizers.Adam(0.001), loss='mse')"
   ]
  },
  {
   "cell_type": "code",
   "execution_count": 76,
   "metadata": {
    "collapsed": false
   },
   "outputs": [
    {
     "name": "stdout",
     "output_type": "stream",
     "text": [
      "Train on 80031 samples, validate on 19973 samples\n",
      "Epoch 1/1\n",
      "80031/80031 [==============================] - 6s - loss: 10.1590 - val_loss: 4.7631\n"
     ]
    }
   ],
   "source": [
    "fit(model, 1, 0.001)"
   ]
  },
  {
   "cell_type": "code",
   "execution_count": 77,
   "metadata": {
    "collapsed": false
   },
   "outputs": [
    {
     "name": "stdout",
     "output_type": "stream",
     "text": [
      "Train on 80031 samples, validate on 19973 samples\n",
      "Epoch 1/10\n",
      "80031/80031 [==============================] - 6s - loss: 6.2312 - val_loss: 3.3124\n",
      "Epoch 2/10\n",
      "80031/80031 [==============================] - 6s - loss: 5.1941 - val_loss: 2.8437\n",
      "Epoch 3/10\n",
      "80031/80031 [==============================] - 6s - loss: 4.2102 - val_loss: 2.4925\n",
      "Epoch 4/10\n",
      "80031/80031 [==============================] - 6s - loss: 3.2844 - val_loss: 2.1728\n",
      "Epoch 5/10\n",
      "80031/80031 [==============================] - 6s - loss: 2.4724 - val_loss: 1.8651\n",
      "Epoch 6/10\n",
      "80031/80031 [==============================] - 6s - loss: 1.8221 - val_loss: 1.5662\n",
      "Epoch 7/10\n",
      "80031/80031 [==============================] - 6s - loss: 1.3851 - val_loss: 1.3153\n",
      "Epoch 8/10\n",
      "80031/80031 [==============================] - 6s - loss: 1.1540 - val_loss: 1.1595\n",
      "Epoch 9/10\n",
      "80031/80031 [==============================] - 6s - loss: 1.0292 - val_loss: 1.0676\n",
      "Epoch 10/10\n",
      "80031/80031 [==============================] - 6s - loss: 0.9502 - val_loss: 1.0074\n"
     ]
    }
   ],
   "source": [
    "fit(model, 10, 0.01)"
   ]
  },
  {
   "cell_type": "markdown",
   "metadata": {},
   "source": [
    "# Look at stuffs"
   ]
  },
  {
   "cell_type": "markdown",
   "metadata": {},
   "source": [
    "## First the movie bias"
   ]
  },
  {
   "cell_type": "code",
   "execution_count": 90,
   "metadata": {
    "collapsed": false
   },
   "outputs": [],
   "source": [
    "bias_model = keras.models.Model(movie_input, b_movie_embedding)\n",
    "bias_preds = bias_model.predict(ratings['seqMovieId'].unique())"
   ]
  },
  {
   "cell_type": "code",
   "execution_count": 94,
   "metadata": {
    "collapsed": true
   },
   "outputs": [],
   "source": [
    "movie_ratings = sorted(zip(ratings['title'].unique(), bias_preds), key=lambda x: x[1])"
   ]
  },
  {
   "cell_type": "code",
   "execution_count": 95,
   "metadata": {
    "collapsed": false
   },
   "outputs": [
    {
     "data": {
      "text/plain": [
       "[('Spy Kids 3-D: Game Over (2003)', array([-0.57035518], dtype=float32)),\n",
       " (\"Joe's Apartment (1996)\", array([-0.511823], dtype=float32)),\n",
       " ('Rage: Carrie 2, The (1999)', array([-0.47340706], dtype=float32)),\n",
       " ('Baby Geniuses (1999)', array([-0.44225287], dtype=float32)),\n",
       " ('Beverly Hills Chihuahua (2008)', array([-0.43715361], dtype=float32)),\n",
       " ('In the Army Now (1994)', array([-0.42980075], dtype=float32)),\n",
       " ('Vampires Suck (2010)', array([-0.42295581], dtype=float32)),\n",
       " ('Carnosaur 3: Primal Species (1996)', array([-0.40701455], dtype=float32)),\n",
       " ('Jaws: The Revenge (1987)', array([-0.40035567], dtype=float32)),\n",
       " ('Tekkonkinkreet (Tekkon kinkur\\xc3\\xaeto) (2006)',\n",
       "  array([-0.3926492], dtype=float32))]"
      ]
     },
     "execution_count": 95,
     "metadata": {},
     "output_type": "execute_result"
    }
   ],
   "source": [
    "movie_ratings[:10]"
   ]
  },
  {
   "cell_type": "code",
   "execution_count": 96,
   "metadata": {
    "collapsed": false
   },
   "outputs": [
    {
     "data": {
      "text/plain": [
       "[('Forrest Gump (1994)', array([ 2.00717521], dtype=float32)),\n",
       " ('Silence of the Lambs, The (1991)', array([ 2.01407266], dtype=float32)),\n",
       " ('Godfather: Part II, The (1974)', array([ 2.02144289], dtype=float32)),\n",
       " ('Fargo (1996)', array([ 2.07270026], dtype=float32)),\n",
       " ('Star Wars: Episode IV - A New Hope (1977)',\n",
       "  array([ 2.07493281], dtype=float32)),\n",
       " (\"Schindler's List (1993)\", array([ 2.09836292], dtype=float32)),\n",
       " ('Usual Suspects, The (1995)', array([ 2.1232934], dtype=float32)),\n",
       " ('Pulp Fiction (1994)', array([ 2.16603613], dtype=float32)),\n",
       " ('Godfather, The (1972)', array([ 2.2109468], dtype=float32)),\n",
       " ('Shawshank Redemption, The (1994)', array([ 2.42214465], dtype=float32))]"
      ]
     },
     "execution_count": 96,
     "metadata": {},
     "output_type": "execute_result"
    }
   ],
   "source": [
    "movie_ratings[-10:]"
   ]
  },
  {
   "cell_type": "code",
   "execution_count": null,
   "metadata": {
    "collapsed": true
   },
   "outputs": [],
   "source": []
  }
 ],
 "metadata": {
  "anaconda-cloud": {},
  "kernelspec": {
   "display_name": "Python [conda root]",
   "language": "python",
   "name": "conda-root-py"
  },
  "language_info": {
   "codemirror_mode": {
    "name": "ipython",
    "version": 2
   },
   "file_extension": ".py",
   "mimetype": "text/x-python",
   "name": "python",
   "nbconvert_exporter": "python",
   "pygments_lexer": "ipython2",
   "version": "2.7.12"
  }
 },
 "nbformat": 4,
 "nbformat_minor": 1
}
