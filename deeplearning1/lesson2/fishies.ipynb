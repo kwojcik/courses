{
 "cells": [
  {
   "cell_type": "code",
   "execution_count": 1,
   "metadata": {
    "collapsed": false
   },
   "outputs": [
    {
     "name": "stderr",
     "output_type": "stream",
     "text": [
      "Using gpu device 0: Tesla K80 (CNMeM is disabled, cuDNN 5103)\n",
      "/home/ubuntu/anaconda2/lib/python2.7/site-packages/theano/sandbox/cuda/__init__.py:600: UserWarning: Your cuDNN version is more recent than the one Theano officially supports. If you see any problems, try updating Theano or downgrading cuDNN to version 5.\n",
      "  warnings.warn(warn)\n",
      "Using Theano backend.\n"
     ]
    }
   ],
   "source": [
    "%matplotlib inline\n",
    "import utils; reload(utils)\n",
    "from utils import *"
   ]
  },
  {
   "cell_type": "code",
   "execution_count": 2,
   "metadata": {
    "collapsed": false
   },
   "outputs": [
    {
     "name": "stdout",
     "output_type": "stream",
     "text": [
      "/home/ubuntu/courses/deeplearning1/lesson2\r\n"
     ]
    }
   ],
   "source": [
    "!pwd"
   ]
  },
  {
   "cell_type": "code",
   "execution_count": 61,
   "metadata": {
    "collapsed": true
   },
   "outputs": [],
   "source": [
    "path = '../data/fishies'\n",
    "train_path = path + '/train'\n",
    "valid_path = path + '/valid'\n",
    "test_path = path + '/test_stg1'\n",
    "results_path = path + '/results'\n",
    "batch_size=64"
   ]
  },
  {
   "cell_type": "code",
   "execution_count": 62,
   "metadata": {
    "collapsed": false
   },
   "outputs": [
    {
     "name": "stdout",
     "output_type": "stream",
     "text": [
      "Found 3064 images belonging to 8 classes.\n",
      "Found 713 images belonging to 8 classes.\n",
      "Found 1000 images belonging to 1 classes.\n"
     ]
    }
   ],
   "source": [
    "train_batches = get_batches(train_path, batch_size=64)\n",
    "valid_batches = get_batches(valid_path, batch_size=64)\n",
    "test_batches = get_batches(test_path, batch_size=64)"
   ]
  },
  {
   "cell_type": "code",
   "execution_count": 63,
   "metadata": {
    "collapsed": false
   },
   "outputs": [
    {
     "data": {
      "text/plain": [
       "{'ALB': 0,\n",
       " 'BET': 1,\n",
       " 'DOL': 2,\n",
       " 'LAG': 3,\n",
       " 'NoF': 4,\n",
       " 'OTHER': 5,\n",
       " 'SHARK': 6,\n",
       " 'YFT': 7}"
      ]
     },
     "execution_count": 63,
     "metadata": {},
     "output_type": "execute_result"
    }
   ],
   "source": [
    "train_batches.class_indices"
   ]
  },
  {
   "cell_type": "code",
   "execution_count": 64,
   "metadata": {
    "collapsed": true
   },
   "outputs": [],
   "source": [
    "from vgg16 import Vgg16\n",
    "vgg = Vgg16()\n",
    "model = vgg.model"
   ]
  },
  {
   "cell_type": "code",
   "execution_count": 65,
   "metadata": {
    "collapsed": true
   },
   "outputs": [],
   "source": [
    "# Setup so the last layer only has 8 classes, one for each of our classes\n",
    "vgg.finetune(train_batches)"
   ]
  },
  {
   "cell_type": "code",
   "execution_count": 66,
   "metadata": {
    "collapsed": false
   },
   "outputs": [
    {
     "name": "stdout",
     "output_type": "stream",
     "text": [
      "Epoch 1/1\n",
      "3064/3064 [==============================] - 104s - loss: 2.1329 - acc: 0.4677 - val_loss: 1.0387 - val_acc: 0.6914\n"
     ]
    }
   ],
   "source": [
    "vgg.fit(train_batches, valid_batches, nb_epoch=1)"
   ]
  },
  {
   "cell_type": "code",
   "execution_count": 68,
   "metadata": {
    "collapsed": false
   },
   "outputs": [
    {
     "name": "stdout",
     "output_type": "stream",
     "text": [
      "Epoch 1/1\n",
      "3064/3064 [==============================] - 104s - loss: 1.3493 - acc: 0.6012 - val_loss: 0.7949 - val_acc: 0.7770\n"
     ]
    }
   ],
   "source": [
    "vgg.fit(train_batches, valid_batches, nb_epoch=1)"
   ]
  },
  {
   "cell_type": "code",
   "execution_count": 69,
   "metadata": {
    "collapsed": false
   },
   "outputs": [
    {
     "name": "stdout",
     "output_type": "stream",
     "text": [
      "Epoch 1/1\n",
      "3064/3064 [==============================] - 104s - loss: 1.0574 - acc: 0.6717 - val_loss: 0.5996 - val_acc: 0.8331\n"
     ]
    }
   ],
   "source": [
    "vgg.fit(train_batches, valid_batches, nb_epoch=1)"
   ]
  },
  {
   "cell_type": "code",
   "execution_count": 70,
   "metadata": {
    "collapsed": false
   },
   "outputs": [
    {
     "name": "stdout",
     "output_type": "stream",
     "text": [
      "Epoch 1/1\n",
      "3064/3064 [==============================] - 104s - loss: 0.9277 - acc: 0.7190 - val_loss: 0.5941 - val_acc: 0.8289\n"
     ]
    }
   ],
   "source": [
    "vgg.fit(train_batches, valid_batches, nb_epoch=1)"
   ]
  },
  {
   "cell_type": "code",
   "execution_count": 75,
   "metadata": {
    "collapsed": false
   },
   "outputs": [
    {
     "name": "stdout",
     "output_type": "stream",
     "text": [
      "Found 713 images belonging to 8 classes.\n"
     ]
    }
   ],
   "source": [
    "_, valid_preds = vgg.test(valid_path)"
   ]
  },
  {
   "cell_type": "code",
   "execution_count": 84,
   "metadata": {
    "collapsed": false
   },
   "outputs": [
    {
     "name": "stdout",
     "output_type": "stream",
     "text": [
      "Found 3064 images belonging to 8 classes.\n"
     ]
    }
   ],
   "source": [
    "_, train_preds = vgg.test(train_path)"
   ]
  },
  {
   "cell_type": "code",
   "execution_count": 113,
   "metadata": {
    "collapsed": true
   },
   "outputs": [],
   "source": [
    "def onehot(batches):\n",
    "    num_classes = len(batches.class_indices)\n",
    "    return np.equal(batches.classes, np.matrix(np.arange(num_classes)).T).T.astype(int)\n",
    "def multiclass_logloss_rowscaled(batches, preds):\n",
    "    preds = np.clip(preds, 0.0001, 0.9999)\n",
    "    print preds[:2]\n",
    "    sums = np.matrix(np.sum(preds, axis=1)).T\n",
    "    print sums[:2]\n",
    "    preds = np.divide(preds, sums)\n",
    "    print preds[:2]\n",
    "    oh = onehot(batches)\n",
    "    return (-1.0/batches.N) * np.sum(np.multiply(oh, np.log(preds)))"
   ]
  },
  {
   "cell_type": "code",
   "execution_count": 114,
   "metadata": {
    "collapsed": false
   },
   "outputs": [
    {
     "name": "stdout",
     "output_type": "stream",
     "text": [
      "[[  9.9170e-01   1.3510e-03   1.0000e-04   1.0000e-04   3.1356e-03   1.0000e-04   1.9647e-03\n",
      "    1.8123e-03]\n",
      " [  7.6093e-01   1.0301e-04   7.8499e-03   1.0000e-04   2.1446e-03   4.9946e-03   3.9654e-02\n",
      "    1.8428e-01]]\n",
      "[[ 1.0003]\n",
      " [ 1.0001]]\n",
      "[[  9.9144e-01   1.3506e-03   9.9974e-05   9.9974e-05   3.1348e-03   9.9974e-05   1.9642e-03\n",
      "    1.8118e-03]\n",
      " [  7.6089e-01   1.0300e-04   7.8495e-03   9.9995e-05   2.1444e-03   4.9943e-03   3.9652e-02\n",
      "    1.8427e-01]]\n"
     ]
    },
    {
     "data": {
      "text/plain": [
       "0.61586382749410762"
      ]
     },
     "execution_count": 114,
     "metadata": {},
     "output_type": "execute_result"
    }
   ],
   "source": [
    "multiclass_logloss_rowscaled(valid_batches, valid_preds)"
   ]
  },
  {
   "cell_type": "code",
   "execution_count": 112,
   "metadata": {
    "collapsed": false
   },
   "outputs": [
    {
     "data": {
      "text/plain": [
       "0.39243241152919128"
      ]
     },
     "execution_count": 112,
     "metadata": {},
     "output_type": "execute_result"
    }
   ],
   "source": [
    "multiclass_logloss_rowscaled(train_batches, train_preds)"
   ]
  },
  {
   "cell_type": "code",
   "execution_count": 105,
   "metadata": {
    "collapsed": false
   },
   "outputs": [
    {
     "data": {
      "text/plain": [
       "matrix([[ 6],\n",
       "        [15]])"
      ]
     },
     "execution_count": 105,
     "metadata": {},
     "output_type": "execute_result"
    }
   ],
   "source": [
    "np.sum(np.matrix([[1,2,3],[4,5,6]]), axis=1)"
   ]
  },
  {
   "cell_type": "code",
   "execution_count": 71,
   "metadata": {
    "collapsed": false
   },
   "outputs": [
    {
     "name": "stdout",
     "output_type": "stream",
     "text": [
      "Found 1000 images belonging to 1 classes.\n"
     ]
    }
   ],
   "source": [
    "test_batches, preds = vgg.test(test_path)"
   ]
  },
  {
   "cell_type": "code",
   "execution_count": 94,
   "metadata": {
    "collapsed": false
   },
   "outputs": [
    {
     "data": {
      "text/plain": [
       "{'ALB': 0,\n",
       " 'BET': 1,\n",
       " 'DOL': 2,\n",
       " 'LAG': 3,\n",
       " 'NoF': 4,\n",
       " 'OTHER': 5,\n",
       " 'SHARK': 6,\n",
       " 'YFT': 7}"
      ]
     },
     "execution_count": 94,
     "metadata": {},
     "output_type": "execute_result"
    }
   ],
   "source": [
    "train_batches.class_indices"
   ]
  },
  {
   "cell_type": "code",
   "execution_count": 116,
   "metadata": {
    "collapsed": false
   },
   "outputs": [
    {
     "name": "stdout",
     "output_type": "stream",
     "text": [
      "SHARK\n",
      "DOL\n",
      "NoF\n",
      "LAG\n",
      "ALB\n",
      "YFT\n",
      "OTHER\n",
      "BET\n"
     ]
    }
   ],
   "source": [
    "for i in train_batches.class_indices:\n",
    "    print i"
   ]
  },
  {
   "cell_type": "code",
   "execution_count": 117,
   "metadata": {
    "collapsed": false
   },
   "outputs": [],
   "source": [
    "# Generate CSV\n",
    "sorted_indices = sorted(train_batches.class_indices)\n",
    "header = ','.join(['image'] + [i for i in sorted(train_batches.class_indices)])\n",
    "with open(results_path + '/results.csv', 'w') as f:\n",
    "    f.write(header + '\\n')\n",
    "    for filename, prow in zip(test_batches.filenames, preds):\n",
    "        f.write(filename.replace('UNKNOWN/','') + ',' + ','.join(map(str, prow)) + '\\n')"
   ]
  },
  {
   "cell_type": "code",
   "execution_count": null,
   "metadata": {
    "collapsed": true
   },
   "outputs": [],
   "source": []
  }
 ],
 "metadata": {
  "anaconda-cloud": {},
  "kernelspec": {
   "display_name": "Python [conda root]",
   "language": "python",
   "name": "conda-root-py"
  },
  "language_info": {
   "codemirror_mode": {
    "name": "ipython",
    "version": 2
   },
   "file_extension": ".py",
   "mimetype": "text/x-python",
   "name": "python",
   "nbconvert_exporter": "python",
   "pygments_lexer": "ipython2",
   "version": "2.7.12"
  }
 },
 "nbformat": 4,
 "nbformat_minor": 1
}
