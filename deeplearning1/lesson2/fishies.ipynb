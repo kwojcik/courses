{
 "cells": [
  {
   "cell_type": "code",
   "execution_count": 1,
   "metadata": {
    "collapsed": false
   },
   "outputs": [
    {
     "name": "stderr",
     "output_type": "stream",
     "text": [
      "Using gpu device 0: Tesla K80 (CNMeM is disabled, cuDNN 5103)\n",
      "/home/ubuntu/anaconda2/lib/python2.7/site-packages/theano/sandbox/cuda/__init__.py:600: UserWarning: Your cuDNN version is more recent than the one Theano officially supports. If you see any problems, try updating Theano or downgrading cuDNN to version 5.\n",
      "  warnings.warn(warn)\n",
      "Using Theano backend.\n"
     ]
    }
   ],
   "source": [
    "%matplotlib inline\n",
    "import utils; reload(utils)\n",
    "from utils import *"
   ]
  },
  {
   "cell_type": "code",
   "execution_count": 2,
   "metadata": {
    "collapsed": false
   },
   "outputs": [
    {
     "name": "stdout",
     "output_type": "stream",
     "text": [
      "/home/ubuntu/courses/deeplearning1/lesson2\r\n"
     ]
    }
   ],
   "source": [
    "!pwd"
   ]
  },
  {
   "cell_type": "code",
   "execution_count": 3,
   "metadata": {
    "collapsed": true
   },
   "outputs": [],
   "source": [
    "path = '../data/fishies'\n",
    "train_path = path + '/train'\n",
    "valid_path = path + '/valid'\n",
    "test_path = path + '/test_stg1'\n",
    "results_path = path + '/results'\n",
    "batch_size=64"
   ]
  },
  {
   "cell_type": "code",
   "execution_count": 4,
   "metadata": {
    "collapsed": false
   },
   "outputs": [
    {
     "name": "stdout",
     "output_type": "stream",
     "text": [
      "Found 3064 images belonging to 8 classes.\n",
      "Found 713 images belonging to 8 classes.\n",
      "Found 1000 images belonging to 1 classes.\n"
     ]
    }
   ],
   "source": [
    "train_batches = get_batches(train_path, batch_size=64)\n",
    "valid_batches = get_batches(valid_path, batch_size=64)\n",
    "test_batches = get_batches(test_path, batch_size=64)"
   ]
  },
  {
   "cell_type": "code",
   "execution_count": 5,
   "metadata": {
    "collapsed": false
   },
   "outputs": [],
   "source": [
    "import keras.layers.core\n",
    "import keras.layers.convolutional\n",
    "import keras.models\n",
    "import keras.utils.data_utils\n",
    "# Create vgg model\n",
    "def vgg_preprocess(x):\n",
    "    # Magic numbers that were the RGB averages of all Imagenet images\n",
    "    mean = np.array([123.68, 116.779, 103.939], dtype=np.float32).reshape((3,1,1))\n",
    "    x = x - mean\n",
    "    return x[:, ::-1] # reverse from RGB to BGR\n",
    "model = keras.models.Sequential()\n",
    "model.add(keras.layers.core.Lambda(vgg_preprocess, input_shape=(3,224,224)))\n",
    "\n",
    "# VGG16 layer configuration.\n",
    "for layers, filters in [(2,64), (2,128), (3,256), (3,512), (3,512)]:\n",
    "    for i in range(layers):\n",
    "        model.add(keras.layers.convolutional.ZeroPadding2D((1, 1)))\n",
    "        model.add(keras.layers.convolutional.Convolution2D(filters, 3, 3, activation='relu'))\n",
    "    model.add(keras.layers.convolutional.MaxPooling2D((2, 2), strides=(2, 2)))\n",
    "\n",
    "# This just reshapes the outputs of previous nodes into a 1 dimensional thing?\n",
    "# TODO\n",
    "model.add(keras.layers.core.Flatten())\n",
    "\n",
    "# Add 2 fully connected layers\n",
    "# TODO why?\n",
    "model.add(keras.layers.core.Dense(4096, activation='relu'))\n",
    "model.add(keras.layers.core.Dense(4096, activation='relu'))\n",
    "\n",
    "# Add a dropout layer, which randomly sets 50% of inputs to 0 at each update during training\n",
    "# TODO why would you do this\n",
    "model.add(keras.layers.core.Dropout(0.5))\n",
    "\n",
    "# Add a final 1000 node layer for all 1000 Imagenet categories\n",
    "model.add(Dense(1000, activation='softmax'))\n",
    "\n",
    "# Load weights pre-trained by the vgg folks. Since we defined exactly the vgg architecture,\n",
    "# we can reuse what they did before\n",
    "model.load_weights(\n",
    "    keras.utils.data_utils.get_file(\n",
    "        'vgg16.h5',\n",
    "        'http://www.platform.ai/models/vgg16.h5',\n",
    "        cache_subdir='models'))"
   ]
  },
  {
   "cell_type": "code",
   "execution_count": 7,
   "metadata": {
    "collapsed": false
   },
   "outputs": [],
   "source": [
    "# By building the VGG16 model as it was before, we can use the pretrained weights.\n",
    "# After loading the weight, we can tune it for our use case by removing the 1000-class detector\n",
    "# and adding one with 8 layers, one for each fishy type\n",
    "model.pop()\n",
    "for layer in model.layers:\n",
    "    layer.trainable = False\n",
    "model.add(keras.layers.core.Dense(8,activation='softmax'))\n",
    "model.compile(\n",
    "    optimizer=keras.optimizers.Adam(lr=0.001),\n",
    "    loss='categorical_crossentropy',\n",
    "    metrics=['accuracy'])"
   ]
  },
  {
   "cell_type": "code",
   "execution_count": 8,
   "metadata": {
    "collapsed": false
   },
   "outputs": [
    {
     "name": "stdout",
     "output_type": "stream",
     "text": [
      "Epoch 1/1\n",
      "3064/3064 [==============================] - 112s - loss: 1.9455 - acc: 0.4974 - val_loss: 0.8410 - val_acc: 0.7321\n"
     ]
    },
    {
     "data": {
      "text/plain": [
       "<keras.callbacks.History at 0x7fe239164650>"
      ]
     },
     "execution_count": 8,
     "metadata": {},
     "output_type": "execute_result"
    }
   ],
   "source": [
    "# Train for 1 epoch\n",
    "model.fit_generator(\n",
    "    train_batches,\n",
    "    samples_per_epoch=train_batches.nb_sample,\n",
    "    nb_epoch=1,\n",
    "    validation_data=valid_batches,\n",
    "    nb_val_samples=valid_batches.nb_sample)"
   ]
  },
  {
   "cell_type": "code",
   "execution_count": 11,
   "metadata": {
    "collapsed": true
   },
   "outputs": [],
   "source": [
    "def onehot(batches):\n",
    "    num_classes = len(batches.class_indices)\n",
    "    return np.equal(batches.classes, np.matrix(np.arange(num_classes)).T).T.astype(int)\n",
    "def multiclass_logloss_rowscaled(batches, preds):\n",
    "    preds = np.clip(preds, 0.0001, 0.9999)\n",
    "    sums = np.matrix(np.sum(preds, axis=1)).T\n",
    "    preds = np.divide(preds, sums)\n",
    "    oh = onehot(batches)\n",
    "    return (-1.0/batches.N) * np.sum(np.multiply(oh, np.log(preds)))"
   ]
  },
  {
   "cell_type": "code",
   "execution_count": 16,
   "metadata": {
    "collapsed": true
   },
   "outputs": [],
   "source": [
    "# Run validation data through to get predictions\n",
    "valid_preds = model.predict_generator(valid_batches, valid_batches.nb_sample)"
   ]
  },
  {
   "cell_type": "code",
   "execution_count": 17,
   "metadata": {
    "collapsed": false
   },
   "outputs": [
    {
     "data": {
      "text/plain": [
       "3.3595376222890438"
      ]
     },
     "execution_count": 17,
     "metadata": {},
     "output_type": "execute_result"
    }
   ],
   "source": [
    "multiclass_logloss_rowscaled(valid_batches, valid_preds)"
   ]
  },
  {
   "cell_type": "code",
   "execution_count": 18,
   "metadata": {
    "collapsed": false
   },
   "outputs": [],
   "source": [
    "# Run test data through to get predictions\n",
    "test_preds = model.predict_generator(test_batches, test_batches.nb_sample)"
   ]
  },
  {
   "cell_type": "code",
   "execution_count": 19,
   "metadata": {
    "collapsed": false
   },
   "outputs": [
    {
     "data": {
      "text/plain": [
       "39.381199044999782"
      ]
     },
     "execution_count": 19,
     "metadata": {},
     "output_type": "execute_result"
    }
   ],
   "source": [
    "multiclass_logloss_rowscaled(test_batches, test_preds)"
   ]
  },
  {
   "cell_type": "code",
   "execution_count": 17,
   "metadata": {
    "collapsed": false
   },
   "outputs": [],
   "source": [
    "# Generate CSV\n",
    "sorted_indices = sorted(train_batches.class_indices)\n",
    "header = ','.join(['image'] + [i for i in sorted(train_batches.class_indices)])\n",
    "with open(results_path + '/results.csv', 'w') as f:\n",
    "    f.write(header + '\\n')\n",
    "    for filename, prow in zip(test_batches.filenames, preds):\n",
    "        f.write(filename.replace('UNKNOWN/','') + ',' + ','.join(map(str, prow)) + '\\n')"
   ]
  },
  {
   "cell_type": "code",
   "execution_count": null,
   "metadata": {
    "collapsed": true
   },
   "outputs": [],
   "source": []
  }
 ],
 "metadata": {
  "anaconda-cloud": {},
  "kernelspec": {
   "display_name": "Python [conda root]",
   "language": "python",
   "name": "conda-root-py"
  },
  "language_info": {
   "codemirror_mode": {
    "name": "ipython",
    "version": 2
   },
   "file_extension": ".py",
   "mimetype": "text/x-python",
   "name": "python",
   "nbconvert_exporter": "python",
   "pygments_lexer": "ipython2",
   "version": "2.7.12"
  }
 },
 "nbformat": 4,
 "nbformat_minor": 1
}
