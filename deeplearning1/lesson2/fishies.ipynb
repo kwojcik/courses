{
 "cells": [
  {
   "cell_type": "code",
   "execution_count": 1,
   "metadata": {
    "collapsed": false
   },
   "outputs": [
    {
     "name": "stderr",
     "output_type": "stream",
     "text": [
      "Using gpu device 0: Tesla K80 (CNMeM is disabled, cuDNN 5103)\n",
      "/home/ubuntu/anaconda2/lib/python2.7/site-packages/theano/sandbox/cuda/__init__.py:600: UserWarning: Your cuDNN version is more recent than the one Theano officially supports. If you see any problems, try updating Theano or downgrading cuDNN to version 5.\n",
      "  warnings.warn(warn)\n",
      "Using Theano backend.\n"
     ]
    }
   ],
   "source": [
    "%matplotlib inline\n",
    "import utils; reload(utils)\n",
    "from utils import *"
   ]
  },
  {
   "cell_type": "code",
   "execution_count": 2,
   "metadata": {
    "collapsed": false
   },
   "outputs": [
    {
     "name": "stdout",
     "output_type": "stream",
     "text": [
      "/home/ubuntu/courses/deeplearning1/lesson2\r\n"
     ]
    }
   ],
   "source": [
    "!pwd"
   ]
  },
  {
   "cell_type": "code",
   "execution_count": 55,
   "metadata": {
    "collapsed": true
   },
   "outputs": [],
   "source": [
    "path = '../data/fishies'\n",
    "train_path = path + '/train'\n",
    "valid_path = path + '/valid'\n",
    "test_path = path + '/test_stg1'\n",
    "results_path = path + '/results'\n",
    "batch_size=64"
   ]
  },
  {
   "cell_type": "code",
   "execution_count": 36,
   "metadata": {
    "collapsed": false
   },
   "outputs": [
    {
     "name": "stdout",
     "output_type": "stream",
     "text": [
      "Found 160 images belonging to 8 classes.\n",
      "Found 153 images belonging to 8 classes.\n",
      "Found 100 images belonging to 1 classes.\n"
     ]
    }
   ],
   "source": [
    "train_batches = get_batches(train_path, batch_size=64)\n",
    "valid_batches = get_batches(valid_path, batch_size=64)\n",
    "test_batches = get_batches(test_path, batch_size=64)"
   ]
  },
  {
   "cell_type": "code",
   "execution_count": 25,
   "metadata": {
    "collapsed": false
   },
   "outputs": [
    {
     "data": {
      "text/plain": [
       "{'ALB': 0,\n",
       " 'BET': 1,\n",
       " 'DOL': 2,\n",
       " 'LAG': 3,\n",
       " 'NoF': 4,\n",
       " 'OTHER': 5,\n",
       " 'SHARK': 6,\n",
       " 'YFT': 7}"
      ]
     },
     "execution_count": 25,
     "metadata": {},
     "output_type": "execute_result"
    }
   ],
   "source": [
    "train_batches.class_indices"
   ]
  },
  {
   "cell_type": "code",
   "execution_count": 26,
   "metadata": {
    "collapsed": true
   },
   "outputs": [],
   "source": [
    "from vgg16 import Vgg16\n",
    "vgg = Vgg16()\n",
    "model = vgg.model"
   ]
  },
  {
   "cell_type": "code",
   "execution_count": 27,
   "metadata": {
    "collapsed": true
   },
   "outputs": [],
   "source": [
    "# Setup so the last layer only has 8 classes, one for each of our classes\n",
    "vgg.finetune(train_batches)"
   ]
  },
  {
   "cell_type": "code",
   "execution_count": 29,
   "metadata": {
    "collapsed": false
   },
   "outputs": [
    {
     "name": "stdout",
     "output_type": "stream",
     "text": [
      "Epoch 1/10\n",
      "160/160 [==============================] - 11s - loss: 1.8022 - acc: 0.4500 - val_loss: 1.8983 - val_acc: 0.4314\n",
      "Epoch 2/10\n",
      "160/160 [==============================] - 9s - loss: 1.2456 - acc: 0.6375 - val_loss: 1.8512 - val_acc: 0.4052\n",
      "Epoch 3/10\n",
      "160/160 [==============================] - 10s - loss: 1.5140 - acc: 0.5375 - val_loss: 1.8562 - val_acc: 0.4641\n",
      "Epoch 4/10\n",
      "160/160 [==============================] - 9s - loss: 1.2038 - acc: 0.6562 - val_loss: 1.8013 - val_acc: 0.4771\n",
      "Epoch 5/10\n",
      "160/160 [==============================] - 8s - loss: 1.0553 - acc: 0.6562 - val_loss: 1.8501 - val_acc: 0.4575\n",
      "Epoch 6/10\n",
      "160/160 [==============================] - 9s - loss: 1.0906 - acc: 0.6312 - val_loss: 1.8634 - val_acc: 0.4902\n",
      "Epoch 7/10\n",
      "160/160 [==============================] - 9s - loss: 1.0678 - acc: 0.6750 - val_loss: 1.6656 - val_acc: 0.5163\n",
      "Epoch 8/10\n",
      "160/160 [==============================] - 9s - loss: 0.8025 - acc: 0.7625 - val_loss: 1.8622 - val_acc: 0.5033\n",
      "Epoch 9/10\n",
      "160/160 [==============================] - 8s - loss: 0.9746 - acc: 0.6875 - val_loss: 1.7001 - val_acc: 0.5425\n",
      "Epoch 10/10\n",
      "160/160 [==============================] - 8s - loss: 0.7189 - acc: 0.7562 - val_loss: 1.5468 - val_acc: 0.5294\n"
     ]
    }
   ],
   "source": [
    "vgg.fit(train_batches, valid_batches, nb_epoch=10)"
   ]
  },
  {
   "cell_type": "code",
   "execution_count": 57,
   "metadata": {
    "collapsed": false
   },
   "outputs": [
    {
     "name": "stdout",
     "output_type": "stream",
     "text": [
      "Found 1000 images belonging to 1 classes.\n"
     ]
    }
   ],
   "source": [
    "test_batches, preds = vgg.test(test_path)"
   ]
  },
  {
   "cell_type": "code",
   "execution_count": 58,
   "metadata": {
    "collapsed": false
   },
   "outputs": [
    {
     "data": {
      "text/plain": [
       "{'ALB': 0,\n",
       " 'BET': 1,\n",
       " 'DOL': 2,\n",
       " 'LAG': 3,\n",
       " 'NoF': 4,\n",
       " 'OTHER': 5,\n",
       " 'SHARK': 6,\n",
       " 'YFT': 7}"
      ]
     },
     "execution_count": 58,
     "metadata": {},
     "output_type": "execute_result"
    }
   ],
   "source": [
    "train_batches.class_indices"
   ]
  },
  {
   "cell_type": "code",
   "execution_count": 60,
   "metadata": {
    "collapsed": false
   },
   "outputs": [],
   "source": [
    "# Generate CSV\n",
    "header = ','.join(['image'] + [i for i in train_batches.class_indices])\n",
    "with open(results_path + '/results.csv', 'w') as f:\n",
    "    f.write(header + '\\n')\n",
    "    for filename, prow in zip(test_batches.filenames, preds):\n",
    "        f.write(filename.replace('UNKNOWN/','') + ',' + ','.join(map(str, prow)) + '\\n')"
   ]
  },
  {
   "cell_type": "code",
   "execution_count": null,
   "metadata": {
    "collapsed": true
   },
   "outputs": [],
   "source": []
  }
 ],
 "metadata": {
  "anaconda-cloud": {},
  "kernelspec": {
   "display_name": "Python [conda root]",
   "language": "python",
   "name": "conda-root-py"
  },
  "language_info": {
   "codemirror_mode": {
    "name": "ipython",
    "version": 2
   },
   "file_extension": ".py",
   "mimetype": "text/x-python",
   "name": "python",
   "nbconvert_exporter": "python",
   "pygments_lexer": "ipython2",
   "version": "2.7.12"
  }
 },
 "nbformat": 4,
 "nbformat_minor": 1
}
